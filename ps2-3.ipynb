{
 "cells": [
  {
   "cell_type": "code",
   "execution_count": 46,
   "metadata": {
    "collapsed": false
   },
   "outputs": [
    {
     "name": "stdout",
     "output_type": "stream",
     "text": [
      "3a. test error: 1.625%\n",
      "3b. top 5 predictive tokens: ['httpaddr' 'spam' 'unsubscrib' 'ebai' 'valet']\n"
     ]
    },
    {
     "data": {
      "image/png": "[encoded data removed]",
      "text/plain": [
       "<matplotlib.figure.Figure at 0x7f04ad621518>"
      ]
     },
     "metadata": {},
     "output_type": "display_data"
    }
   ],
   "source": [
    "%matplotlib inline\n",
    "import numpy as np\n",
    "import io\n",
    "import seaborn as sns\n",
    "\n",
    "def readMatrix(file):\n",
    "    f = open(file, \"r\")\n",
    "    f.readline()\n",
    "    dim = np.array(f.readline().split()).astype(np.int)\n",
    "    tokenlist = np.array(f.readline().split())\n",
    "    matrix = np.zeros((dim[0], dim[1]))\n",
    "    category = np.zeros(dim[0])\n",
    "    \n",
    "    for i in np.arange(dim[0]):\n",
    "        data = np.array(f.readline().split()).astype(np.int)\n",
    "        category[i] = data[0]\n",
    "        \n",
    "        matrixindex = 0\n",
    "        dataindex = 1\n",
    "        while data[dataindex] != -1:\n",
    "            matrixindex += data[dataindex]\n",
    "            matrix[i, matrixindex] = data[dataindex+1]\n",
    "            dataindex += 2\n",
    "\n",
    "    f.close()\n",
    "    return(matrix, tokenlist, category)\n",
    "\n",
    "def nb_train(matrix, category):\n",
    "    spam_prior = np.sum(category)/len(category) #fraction of training set that is spam\n",
    "    \n",
    "    spam_indices = category == 1 #boolean where Trues are spam rows\n",
    "    spam_data = matrix[spam_indices,:] #split matrix into spam and nonspam matrices\n",
    "    email_data = matrix[~spam_indices,:] \n",
    "    \n",
    "    spam_token_probs = np.divide(np.sum(spam_data, axis=0) + 1, np.sum(spam_data) + spam_data.shape[0])\n",
    "    email_token_probs = np.divide(np.sum(email_data, axis=0) + 1, np.sum(email_data) + email_data.shape[0])\n",
    "        \n",
    "    return(spam_prior, spam_token_probs, email_token_probs)\n",
    "\n",
    "def nb_predict(matrix, spam_prior, spam_token_probs, email_token_probs):\n",
    "    \n",
    "    spam_odds = np.add(np.dot(matrix, np.log(spam_token_probs)), np.log(spam_prior))\n",
    "    email_odds = np.add(np.dot(matrix, np.log(email_token_probs)), np.log(1-spam_prior))\n",
    "      \n",
    "    predictions = np.zeros(matrix.shape[0])\n",
    "    predictions[spam_odds>email_odds] = 1\n",
    "    \n",
    "    return(predictions)\n",
    "\n",
    "def get_error(predictions, labels):\n",
    "    return(np.divide(np.sum(np.abs(np.subtract(predictions, labels))), len(labels)))\n",
    "\n",
    "def main():\n",
    "    #3a\n",
    "    #import training data and fit parameters\n",
    "    matrix, tokenlist, category = readMatrix('spam_data/MATRIX.TRAIN')\n",
    "    spam_prior, spam_token_probs, email_token_probs = nb_train(matrix, category)\n",
    "    \n",
    "    #train_predictions = nb_predict(matrix, spam_prior, spam_token_probs, email_token_probs)\n",
    "    \n",
    "    #import test data, predict on test set, and report test error\n",
    "    test_matrix, test_tokenlist, test_category = readMatrix('spam_data/MATRIX.TEST')\n",
    "    test_predictions = nb_predict(test_matrix, spam_prior, spam_token_probs, email_token_probs)\n",
    "    print(\"3a. test error: \"+str(get_error(test_predictions, test_category)*100)+\"%\")\n",
    "    \n",
    "    #3b\n",
    "    tokenratios = np.log(np.divide(spam_token_probs, email_token_probs))\n",
    "    top_token_indices = np.argpartition(tokenratios, -5)[-5:]\n",
    "    top_token_indices = top_token_indices[np.argsort(tokenratios[top_token_indices])]\n",
    "    print(\"3b. top 5 predictive tokens: \" + str(np.flip(tokenlist[top_token_indices], 0)))\n",
    "    \n",
    "    #3c\n",
    "    trainsets = {'t50': readMatrix('spam_data/MATRIX.TRAIN.50'), 't100': readMatrix('spam_data/MATRIX.TRAIN.100'),\n",
    "                 't200': readMatrix('spam_data/MATRIX.TRAIN.200'), 't400': readMatrix('spam_data/MATRIX.TRAIN.400'),\n",
    "                 't800': readMatrix('spam_data/MATRIX.TRAIN.800'), 't1400': readMatrix('spam_data/MATRIX.TRAIN.1400')}\n",
    "    \n",
    "    errormatrix = np.zeros((len(trainsets), 2))\n",
    "    i = 0\n",
    "    for k in trainsets:\n",
    "        errormatrix[i, 0] = trainsets[k][0].shape[0]\n",
    "        model_priors, model_spam_probs, model_email_probs = nb_train(trainsets[k][0], trainsets[k][2])\n",
    "        errormatrix[i, 1] = get_error(nb_predict(test_matrix, model_priors, model_spam_probs, model_email_probs), test_category)\n",
    "        i += 1\n",
    "        \n",
    "    plot3c = sns.regplot(x=errormatrix[:,0], y=errormatrix[:,1], color='k', fit_reg=False)\n",
    "    plot3c.set(ylim=(0, None), xlim=(0, None),\n",
    "               xlabel=\"training set size\", ylabel=\"test error\", title=\"3c. Test error vs. training set size\")\n",
    "    plot3c.get_figure().savefig('figures/ps2-3c')\n",
    "    \n",
    "if __name__ == '__main__':\n",
    "    main()"
   ]
  }
 ],
 "metadata": {
  "anaconda-cloud": {},
  "kernelspec": {
   "display_name": "Python [conda root]",
   "language": "python",
   "name": "conda-root-py"
  },
  "language_info": {
   "codemirror_mode": {
    "name": "ipython",
    "version": 3
   },
   "file_extension": ".py",
   "mimetype": "text/x-python",
   "name": "python",
   "nbconvert_exporter": "python",
   "pygments_lexer": "ipython3",
   "version": "3.5.2"
  }
 },
 "nbformat": 4,
 "nbformat_minor": 1
}
